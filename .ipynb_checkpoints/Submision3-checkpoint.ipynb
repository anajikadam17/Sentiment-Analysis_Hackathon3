{
 "cells": [
  {
   "cell_type": "code",
   "execution_count": 1,
   "metadata": {
    "scrolled": true
   },
   "outputs": [
    {
     "name": "stderr",
     "output_type": "stream",
     "text": [
      "C:\\ProgramData\\Anaconda3\\lib\\site-packages\\sklearn\\ensemble\\weight_boosting.py:29: DeprecationWarning: numpy.core.umath_tests is an internal NumPy module and should not be imported. It will be removed in a future NumPy release.\n",
      "  from numpy.core.umath_tests import inner1d\n"
     ]
    }
   ],
   "source": [
    "import numpy as np \n",
    "import pandas as pd \n",
    "pd.set_option('display.max_colwidth', -1)\n",
    "from time import time\n",
    "import re\n",
    "import string\n",
    "import os\n",
    "import emoji\n",
    "from pprint import pprint\n",
    "import collections\n",
    "import matplotlib.pyplot as plt\n",
    "import seaborn as sns\n",
    "sns.set(style=\"darkgrid\")\n",
    "sns.set(font_scale=1.3)\n",
    "from sklearn.metrics import roc_auc_score ,mean_squared_error,accuracy_score,classification_report,confusion_matrix,roc_curve\n",
    "from sklearn.metrics import confusion_matrix\n",
    "from sklearn.metrics import f1_score\n",
    "from sklearn.metrics import recall_score\n",
    "from sklearn.metrics import precision_score\n",
    "from sklearn.svm import SVC  \n",
    "from sklearn.base import BaseEstimator, TransformerMixin\n",
    "from sklearn.feature_extraction.text import CountVectorizer\n",
    "from wordcloud import WordCloud, STOPWORDS , ImageColorGenerator\n",
    "from sklearn.feature_extraction.text import TfidfVectorizer\n",
    "from sklearn.model_selection import GridSearchCV\n",
    "from sklearn.model_selection import train_test_split\n",
    "from sklearn.pipeline import Pipeline, FeatureUnion\n",
    "from sklearn.metrics import classification_report\n",
    "from sklearn.naive_bayes import MultinomialNB\n",
    "from sklearn.linear_model import LogisticRegression\n",
    "from sklearn.tree import DecisionTreeClassifier\n",
    "from sklearn.ensemble import RandomForestClassifier\n",
    "from sklearn.feature_selection import RFE\n",
    "from sklearn.externals import joblib\n",
    "import gensim\n",
    "from nltk.corpus import stopwords\n",
    "from nltk.stem import PorterStemmer\n",
    "from nltk.tokenize import word_tokenize\n",
    "import warnings\n",
    "warnings.filterwarnings('ignore')\n",
    "np.random.seed(37)"
   ]
  },
  {
   "cell_type": "code",
   "execution_count": 2,
   "metadata": {},
   "outputs": [],
   "source": [
    "#Loading the data for mini-challenges\n",
    "df = pd.read_csv('data/train.csv')\n",
    "# df = df.reindex(np.random.permutation(df.index))\n",
    "df = df[['tweet', 'sentiment']]"
   ]
  },
  {
   "cell_type": "code",
   "execution_count": 3,
   "metadata": {},
   "outputs": [],
   "source": [
    "df = df.dropna()"
   ]
  },
  {
   "cell_type": "code",
   "execution_count": 4,
   "metadata": {},
   "outputs": [
    {
     "name": "stdout",
     "output_type": "stream",
     "text": [
      "<class 'pandas.core.frame.DataFrame'>\n",
      "Int64Index: 7273 entries, 0 to 7273\n",
      "Data columns (total 2 columns):\n",
      "tweet        7273 non-null object\n",
      "sentiment    7273 non-null int64\n",
      "dtypes: int64(1), object(1)\n",
      "memory usage: 170.5+ KB\n"
     ]
    }
   ],
   "source": [
    "df.info()"
   ]
  },
  {
   "cell_type": "code",
   "execution_count": 5,
   "metadata": {
    "scrolled": false
   },
   "outputs": [
    {
     "data": {
      "text/html": [
       "<div>\n",
       "<style scoped>\n",
       "    .dataframe tbody tr th:only-of-type {\n",
       "        vertical-align: middle;\n",
       "    }\n",
       "\n",
       "    .dataframe tbody tr th {\n",
       "        vertical-align: top;\n",
       "    }\n",
       "\n",
       "    .dataframe thead th {\n",
       "        text-align: right;\n",
       "    }\n",
       "</style>\n",
       "<table border=\"1\" class=\"dataframe\">\n",
       "  <thead>\n",
       "    <tr style=\"text-align: right;\">\n",
       "      <th></th>\n",
       "      <th>tweet</th>\n",
       "      <th>sentiment</th>\n",
       "    </tr>\n",
       "  </thead>\n",
       "  <tbody>\n",
       "    <tr>\n",
       "      <th>0</th>\n",
       "      <td>#sxswnui #sxsw #apple defining language of touch with different dialects becoming smaller</td>\n",
       "      <td>1</td>\n",
       "    </tr>\n",
       "    <tr>\n",
       "      <th>1</th>\n",
       "      <td>Learning ab Google doodles! All doodles should be light, funny &amp;amp; innovative, with exceptions for significant occasions. #GoogleDoodle #sxsw</td>\n",
       "      <td>1</td>\n",
       "    </tr>\n",
       "    <tr>\n",
       "      <th>2</th>\n",
       "      <td>one of the most in-your-face ex. of stealing the show in yrs RT @mention &amp;quot;At #SXSW, Apple schools the mkt experts&amp;quot;  {link}</td>\n",
       "      <td>2</td>\n",
       "    </tr>\n",
       "    <tr>\n",
       "      <th>3</th>\n",
       "      <td>This iPhone #SXSW app would b pretty awesome if it didn't crash every 10mins during extended browsing. #Fuckit #Illmakeitwork</td>\n",
       "      <td>0</td>\n",
       "    </tr>\n",
       "    <tr>\n",
       "      <th>4</th>\n",
       "      <td>Line outside the Apple store in Austin waiting for the new iPad #SXSW  {link}</td>\n",
       "      <td>1</td>\n",
       "    </tr>\n",
       "  </tbody>\n",
       "</table>\n",
       "</div>"
      ],
      "text/plain": [
       "                                                                                                                                             tweet  \\\n",
       "0  #sxswnui #sxsw #apple defining language of touch with different dialects becoming smaller                                                         \n",
       "1  Learning ab Google doodles! All doodles should be light, funny &amp; innovative, with exceptions for significant occasions. #GoogleDoodle #sxsw   \n",
       "2  one of the most in-your-face ex. of stealing the show in yrs RT @mention &quot;At #SXSW, Apple schools the mkt experts&quot;  {link}              \n",
       "3  This iPhone #SXSW app would b pretty awesome if it didn't crash every 10mins during extended browsing. #Fuckit #Illmakeitwork                     \n",
       "4  Line outside the Apple store in Austin waiting for the new iPad #SXSW  {link}                                                                     \n",
       "\n",
       "   sentiment  \n",
       "0  1          \n",
       "1  1          \n",
       "2  2          \n",
       "3  0          \n",
       "4  1          "
      ]
     },
     "execution_count": 5,
     "metadata": {},
     "output_type": "execute_result"
    }
   ],
   "source": [
    "df.head()"
   ]
  },
  {
   "cell_type": "code",
   "execution_count": 6,
   "metadata": {},
   "outputs": [],
   "source": [
    "class TextCounts(BaseEstimator, TransformerMixin):\n",
    "    \n",
    "    def count_regex(self, pattern, tweet):\n",
    "        return len(re.findall(pattern, tweet))\n",
    "    \n",
    "    def fit(self, X, y=None, **fit_params):\n",
    "        # fit method is used when specific operations need to be done on the train data, but not on the test data\n",
    "        return self\n",
    "    \n",
    "    def transform(self, X, **transform_params):\n",
    "        count_words = X.apply(lambda x: self.count_regex(r'\\w+', str(x))) \n",
    "        count_mentions = X.apply(lambda x: self.count_regex(r'@\\w+', str(x)))\n",
    "        count_hashtags = X.apply(lambda x: self.count_regex(r'#\\w+', str(x)))\n",
    "        count_capital_words = X.apply(lambda x: self.count_regex(r'\\b[A-Z]{2,}\\b', str(x)))\n",
    "        count_excl_quest_marks = X.apply(lambda x: self.count_regex(r'!|\\?', str(x)))\n",
    "        count_urls = X.apply(lambda x: self.count_regex(r'http.?://[^\\s]+[\\s]?', str(x)))\n",
    "        # We will replace the emoji symbols with a description, which makes using a regex for counting easier\n",
    "        # Moreover, it will result in having more words in the tweet\n",
    "        count_emojis = X.apply(lambda x: emoji.demojize(str(x))).apply(lambda x: self.count_regex(r':[a-z_&]+:', str(x)))\n",
    "        \n",
    "        df = pd.DataFrame({'count_words': count_words\n",
    "                           , 'count_mentions': count_mentions\n",
    "                           , 'count_hashtags': count_hashtags\n",
    "                           , 'count_capital_words': count_capital_words\n",
    "                           , 'count_excl_quest_marks': count_excl_quest_marks\n",
    "                           , 'count_urls': count_urls\n",
    "                           , 'count_emojis': count_emojis\n",
    "                          })\n",
    "        \n",
    "        return df\n",
    "tc = TextCounts()\n",
    "df_eda = tc.fit_transform(df.tweet)\n",
    "df_eda['sentiment'] = df.sentiment"
   ]
  },
  {
   "cell_type": "code",
   "execution_count": 7,
   "metadata": {
    "scrolled": true
   },
   "outputs": [
    {
     "data": {
      "text/html": [
       "<div>\n",
       "<style scoped>\n",
       "    .dataframe tbody tr th:only-of-type {\n",
       "        vertical-align: middle;\n",
       "    }\n",
       "\n",
       "    .dataframe tbody tr th {\n",
       "        vertical-align: top;\n",
       "    }\n",
       "\n",
       "    .dataframe thead th {\n",
       "        text-align: right;\n",
       "    }\n",
       "</style>\n",
       "<table border=\"1\" class=\"dataframe\">\n",
       "  <thead>\n",
       "    <tr style=\"text-align: right;\">\n",
       "      <th></th>\n",
       "      <th>count_words</th>\n",
       "      <th>count_mentions</th>\n",
       "      <th>count_hashtags</th>\n",
       "      <th>count_capital_words</th>\n",
       "      <th>count_excl_quest_marks</th>\n",
       "      <th>count_urls</th>\n",
       "      <th>count_emojis</th>\n",
       "      <th>sentiment</th>\n",
       "    </tr>\n",
       "  </thead>\n",
       "  <tbody>\n",
       "    <tr>\n",
       "      <th>0</th>\n",
       "      <td>12</td>\n",
       "      <td>0</td>\n",
       "      <td>3</td>\n",
       "      <td>0</td>\n",
       "      <td>0</td>\n",
       "      <td>0</td>\n",
       "      <td>0</td>\n",
       "      <td>1</td>\n",
       "    </tr>\n",
       "    <tr>\n",
       "      <th>1</th>\n",
       "      <td>19</td>\n",
       "      <td>0</td>\n",
       "      <td>2</td>\n",
       "      <td>0</td>\n",
       "      <td>1</td>\n",
       "      <td>0</td>\n",
       "      <td>0</td>\n",
       "      <td>1</td>\n",
       "    </tr>\n",
       "    <tr>\n",
       "      <th>2</th>\n",
       "      <td>26</td>\n",
       "      <td>1</td>\n",
       "      <td>1</td>\n",
       "      <td>2</td>\n",
       "      <td>0</td>\n",
       "      <td>0</td>\n",
       "      <td>0</td>\n",
       "      <td>2</td>\n",
       "    </tr>\n",
       "    <tr>\n",
       "      <th>3</th>\n",
       "      <td>20</td>\n",
       "      <td>0</td>\n",
       "      <td>3</td>\n",
       "      <td>1</td>\n",
       "      <td>0</td>\n",
       "      <td>0</td>\n",
       "      <td>0</td>\n",
       "      <td>0</td>\n",
       "    </tr>\n",
       "    <tr>\n",
       "      <th>4</th>\n",
       "      <td>14</td>\n",
       "      <td>0</td>\n",
       "      <td>1</td>\n",
       "      <td>1</td>\n",
       "      <td>0</td>\n",
       "      <td>0</td>\n",
       "      <td>0</td>\n",
       "      <td>1</td>\n",
       "    </tr>\n",
       "  </tbody>\n",
       "</table>\n",
       "</div>"
      ],
      "text/plain": [
       "   count_words  count_mentions  count_hashtags  count_capital_words  \\\n",
       "0  12           0               3               0                     \n",
       "1  19           0               2               0                     \n",
       "2  26           1               1               2                     \n",
       "3  20           0               3               1                     \n",
       "4  14           0               1               1                     \n",
       "\n",
       "   count_excl_quest_marks  count_urls  count_emojis  sentiment  \n",
       "0  0                       0           0             1          \n",
       "1  1                       0           0             1          \n",
       "2  0                       0           0             2          \n",
       "3  0                       0           0             0          \n",
       "4  0                       0           0             1          "
      ]
     },
     "execution_count": 7,
     "metadata": {},
     "output_type": "execute_result"
    }
   ],
   "source": [
    "df_eda.head()"
   ]
  },
  {
   "cell_type": "code",
   "execution_count": 8,
   "metadata": {},
   "outputs": [
    {
     "data": {
      "text/plain": [
       "7180    pack point show iphon fragment sxsw                                                           \n",
       "770     sxsw crowd austin swarm ipad launch link via sadli one                                        \n",
       "1721    ze frank project walk googl streetview street walk mani time revel pop sxsw                   \n",
       "4262    anyon know abl find video marissa mayer sxsw present googl                                    \n",
       "6493    ipad giveaway full forc person friend citi end sxsw win hint strong email list work well sxswi\n",
       "Name: tweet, dtype: object"
      ]
     },
     "execution_count": 8,
     "metadata": {},
     "output_type": "execute_result"
    }
   ],
   "source": [
    "class CleanText(BaseEstimator, TransformerMixin):\n",
    "    def remove_mentions(self, input_text):\n",
    "        return re.sub(r'@\\w+', '', str(input_text))\n",
    "    \n",
    "    def remove_urls(self, input_text):\n",
    "        return re.sub(r'http.?://[^\\s]+[\\s]?', '', str(input_text))\n",
    "    \n",
    "    def emoji_oneword(self, input_text):\n",
    "        # By compressing the underscore, the emoji is kept as one word\n",
    "        return input_text.replace('_','')\n",
    "    \n",
    "    def remove_punctuation(self, input_text):\n",
    "        # Make translation table\n",
    "        punct = string.punctuation\n",
    "        trantab = str.maketrans(punct, len(punct)*' ')  # Every punctuation symbol will be replaced by a space\n",
    "        return input_text.translate(trantab)\n",
    "    def remove_digits(self, input_text):\n",
    "        return re.sub('\\d+', '', str(input_text))\n",
    "    \n",
    "    def to_lower(self, input_text):\n",
    "        return input_text.lower()\n",
    "    \n",
    "    def remove_stopwords(self, input_text):\n",
    "        stopwords_list = stopwords.words('english')\n",
    "        # Some words which might indicate a certain sentiment are kept via a whitelist\n",
    "        whitelist = [\"n't\", \"not\", \"no\"]\n",
    "        words = input_text.split() \n",
    "        clean_words = [word for word in words if (word not in stopwords_list or word in whitelist) and len(word) > 1] \n",
    "        return \" \".join(clean_words) \n",
    "    \n",
    "    def stemming(self, input_text):\n",
    "        porter = PorterStemmer()\n",
    "        words = input_text.split() \n",
    "        stemmed_words = [porter.stem(word) for word in words]\n",
    "        return \" \".join(stemmed_words)\n",
    "    \n",
    "    def fit(self, X, y=None, **fit_params):\n",
    "        return self\n",
    "    \n",
    "    def transform(self, X, **transform_params):\n",
    "        clean_X = X.apply(self.remove_mentions).apply(self.remove_urls).apply(self.emoji_oneword).apply(self.remove_punctuation).apply(self.remove_digits).apply(self.to_lower).apply(self.remove_stopwords).apply(self.stemming)\n",
    "        return clean_X\n",
    "\n",
    "ct = CleanText()\n",
    "sr_clean = ct.fit_transform(df.tweet)\n",
    "sr_clean.sample(5)"
   ]
  },
  {
   "cell_type": "code",
   "execution_count": 9,
   "metadata": {},
   "outputs": [
    {
     "name": "stdout",
     "output_type": "stream",
     "text": [
      "0 records have no words left after text cleaning\n"
     ]
    }
   ],
   "source": [
    "empty_clean = sr_clean == ''\n",
    "# sr_clean[empty_clean].count()\n",
    "print('{} records have no words left after text cleaning'.format(sr_clean[empty_clean].count()))\n",
    "sr_clean.loc[empty_clean] = '[no_text]'"
   ]
  },
  {
   "cell_type": "code",
   "execution_count": 10,
   "metadata": {},
   "outputs": [
    {
     "data": {
      "text/plain": [
       "0    sxswnui sxsw appl defin languag touch differ dialect becom smaller                     \n",
       "1    learn ab googl doodl doodl light funni amp innov except signific occas googledoodl sxsw\n",
       "2    one face ex steal show yr rt quot sxsw appl school mkt expert quot link                \n",
       "3    iphon sxsw app would pretti awesom crash everi min extend brows fuckit illmakeitwork   \n",
       "4    line outsid appl store austin wait new ipad sxsw link                                  \n",
       "Name: tweet, dtype: object"
      ]
     },
     "execution_count": 10,
     "metadata": {},
     "output_type": "execute_result"
    }
   ],
   "source": [
    "sr_clean.head()"
   ]
  },
  {
   "cell_type": "code",
   "execution_count": 11,
   "metadata": {
    "scrolled": true
   },
   "outputs": [
    {
     "data": {
      "image/png": "[encoded data removed]",
      "text/plain": [
       "<Figure size 864x720 with 1 Axes>"
      ]
     },
     "metadata": {
      "needs_background": "light"
     },
     "output_type": "display_data"
    }
   ],
   "source": [
    "cv = CountVectorizer()\n",
    "bow = cv.fit_transform(sr_clean)\n",
    "word_freq = dict(zip(cv.get_feature_names(), np.asarray(bow.sum(axis=0)).ravel()))\n",
    "word_counter = collections.Counter(word_freq)\n",
    "word_counter_df = pd.DataFrame(word_counter.most_common(20), columns = ['word', 'freq'])\n",
    "fig, ax = plt.subplots(figsize=(12, 10))\n",
    "sns.barplot(x=\"word\", y=\"freq\", data=word_counter_df, palette=\"PuBuGn_d\", ax=ax)\n",
    "plt.show();"
   ]
  },
  {
   "cell_type": "code",
   "execution_count": 12,
   "metadata": {
    "scrolled": false
   },
   "outputs": [
    {
     "data": {
      "text/plain": [
       "['count_words',\n",
       " 'count_mentions',\n",
       " 'count_hashtags',\n",
       " 'count_capital_words',\n",
       " 'count_excl_quest_marks',\n",
       " 'count_urls',\n",
       " 'count_emojis',\n",
       " 'sentiment',\n",
       " 'clean_text']"
      ]
     },
     "execution_count": 12,
     "metadata": {},
     "output_type": "execute_result"
    }
   ],
   "source": [
    "df_model = df_eda\n",
    "df_model['clean_text'] = sr_clean\n",
    "col = df_model.columns.tolist()\n",
    "col"
   ]
  },
  {
   "cell_type": "code",
   "execution_count": 13,
   "metadata": {},
   "outputs": [
    {
     "data": {
      "text/plain": [
       "9"
      ]
     },
     "execution_count": 13,
     "metadata": {},
     "output_type": "execute_result"
    }
   ],
   "source": [
    "len(col)"
   ]
  },
  {
   "cell_type": "code",
   "execution_count": 14,
   "metadata": {},
   "outputs": [
    {
     "data": {
      "text/html": [
       "<div>\n",
       "<style scoped>\n",
       "    .dataframe tbody tr th:only-of-type {\n",
       "        vertical-align: middle;\n",
       "    }\n",
       "\n",
       "    .dataframe tbody tr th {\n",
       "        vertical-align: top;\n",
       "    }\n",
       "\n",
       "    .dataframe thead th {\n",
       "        text-align: right;\n",
       "    }\n",
       "</style>\n",
       "<table border=\"1\" class=\"dataframe\">\n",
       "  <thead>\n",
       "    <tr style=\"text-align: right;\">\n",
       "      <th></th>\n",
       "      <th>count_words</th>\n",
       "      <th>count_mentions</th>\n",
       "      <th>count_hashtags</th>\n",
       "      <th>count_capital_words</th>\n",
       "      <th>count_excl_quest_marks</th>\n",
       "      <th>count_urls</th>\n",
       "      <th>count_emojis</th>\n",
       "      <th>sentiment</th>\n",
       "      <th>clean_text</th>\n",
       "    </tr>\n",
       "  </thead>\n",
       "  <tbody>\n",
       "    <tr>\n",
       "      <th>0</th>\n",
       "      <td>12</td>\n",
       "      <td>0</td>\n",
       "      <td>3</td>\n",
       "      <td>0</td>\n",
       "      <td>0</td>\n",
       "      <td>0</td>\n",
       "      <td>0</td>\n",
       "      <td>1</td>\n",
       "      <td>sxswnui sxsw appl defin languag touch differ dialect becom smaller</td>\n",
       "    </tr>\n",
       "    <tr>\n",
       "      <th>1</th>\n",
       "      <td>19</td>\n",
       "      <td>0</td>\n",
       "      <td>2</td>\n",
       "      <td>0</td>\n",
       "      <td>1</td>\n",
       "      <td>0</td>\n",
       "      <td>0</td>\n",
       "      <td>1</td>\n",
       "      <td>learn ab googl doodl doodl light funni amp innov except signific occas googledoodl sxsw</td>\n",
       "    </tr>\n",
       "    <tr>\n",
       "      <th>2</th>\n",
       "      <td>26</td>\n",
       "      <td>1</td>\n",
       "      <td>1</td>\n",
       "      <td>2</td>\n",
       "      <td>0</td>\n",
       "      <td>0</td>\n",
       "      <td>0</td>\n",
       "      <td>2</td>\n",
       "      <td>one face ex steal show yr rt quot sxsw appl school mkt expert quot link</td>\n",
       "    </tr>\n",
       "    <tr>\n",
       "      <th>3</th>\n",
       "      <td>20</td>\n",
       "      <td>0</td>\n",
       "      <td>3</td>\n",
       "      <td>1</td>\n",
       "      <td>0</td>\n",
       "      <td>0</td>\n",
       "      <td>0</td>\n",
       "      <td>0</td>\n",
       "      <td>iphon sxsw app would pretti awesom crash everi min extend brows fuckit illmakeitwork</td>\n",
       "    </tr>\n",
       "    <tr>\n",
       "      <th>4</th>\n",
       "      <td>14</td>\n",
       "      <td>0</td>\n",
       "      <td>1</td>\n",
       "      <td>1</td>\n",
       "      <td>0</td>\n",
       "      <td>0</td>\n",
       "      <td>0</td>\n",
       "      <td>1</td>\n",
       "      <td>line outsid appl store austin wait new ipad sxsw link</td>\n",
       "    </tr>\n",
       "  </tbody>\n",
       "</table>\n",
       "</div>"
      ],
      "text/plain": [
       "   count_words  count_mentions  count_hashtags  count_capital_words  \\\n",
       "0  12           0               3               0                     \n",
       "1  19           0               2               0                     \n",
       "2  26           1               1               2                     \n",
       "3  20           0               3               1                     \n",
       "4  14           0               1               1                     \n",
       "\n",
       "   count_excl_quest_marks  count_urls  count_emojis  sentiment  \\\n",
       "0  0                       0           0             1           \n",
       "1  1                       0           0             1           \n",
       "2  0                       0           0             2           \n",
       "3  0                       0           0             0           \n",
       "4  0                       0           0             1           \n",
       "\n",
       "                                                                                clean_text  \n",
       "0  sxswnui sxsw appl defin languag touch differ dialect becom smaller                       \n",
       "1  learn ab googl doodl doodl light funni amp innov except signific occas googledoodl sxsw  \n",
       "2  one face ex steal show yr rt quot sxsw appl school mkt expert quot link                  \n",
       "3  iphon sxsw app would pretti awesom crash everi min extend brows fuckit illmakeitwork     \n",
       "4  line outsid appl store austin wait new ipad sxsw link                                    "
      ]
     },
     "execution_count": 14,
     "metadata": {},
     "output_type": "execute_result"
    }
   ],
   "source": [
    "df_model.head()"
   ]
  },
  {
   "cell_type": "code",
   "execution_count": 15,
   "metadata": {},
   "outputs": [],
   "source": [
    "logreg = LogisticRegression()\n",
    "dt = DecisionTreeClassifier()\n",
    "rf = RandomForestClassifier()\n",
    "mnb = MultinomialNB()\n",
    "cl = SVC(kernel='rbf', gamma = 6, random_state=0)"
   ]
  },
  {
   "cell_type": "code",
   "execution_count": 16,
   "metadata": {},
   "outputs": [],
   "source": [
    "models = {'Logistic Regression':LogisticRegression()\n",
    "          ,'Decision Tree':DecisionTreeClassifier()\n",
    "          ,'Random Forest': RandomForestClassifier()\n",
    "          ,'MNB':MultinomialNB()\n",
    "          ,'SVC':SVC(kernel='rbf', gamma = 6, random_state=0)}\n"
   ]
  },
  {
   "cell_type": "code",
   "execution_count": 17,
   "metadata": {
    "scrolled": true
   },
   "outputs": [
    {
     "name": "stdout",
     "output_type": "stream",
     "text": [
      "================================================== Logistic Regression ==================================================\n",
      "Train Accuracy:\n",
      " 0.5947060845651426\n",
      "Validation Accuracy:\n",
      " 0.5883161512027492\n",
      "Classification Report:\n",
      "              precision    recall  f1-score   support\n",
      "\n",
      "          0       0.00      0.00      0.00        84\n",
      "          1       0.59      0.97      0.74       859\n",
      "          2       0.45      0.04      0.08       485\n",
      "          3       0.00      0.00      0.00        27\n",
      "\n",
      "avg / total       0.50      0.59      0.46      1455\n",
      "\n",
      "Precision Score :  0.5883161512027492\n",
      "Recall Score :  0.5883161512027492\n",
      "F1 score : 0.5883161512027492\n",
      "========================================================================================================================\n",
      "================================================== Decision Tree ==================================================\n",
      "Train Accuracy:\n",
      " 0.7184599518734961\n",
      "Validation Accuracy:\n",
      " 0.540893470790378\n",
      "Classification Report:\n",
      "              precision    recall  f1-score   support\n",
      "\n",
      "          0       0.12      0.08      0.10        84\n",
      "          1       0.61      0.77      0.68       859\n",
      "          2       0.39      0.25      0.30       485\n",
      "          3       0.00      0.00      0.00        27\n",
      "\n",
      "avg / total       0.50      0.54      0.51      1455\n",
      "\n",
      "Precision Score :  0.540893470790378\n",
      "Recall Score :  0.540893470790378\n",
      "F1 score : 0.540893470790378\n",
      "========================================================================================================================\n",
      "================================================== Random Forest ==================================================\n",
      "Train Accuracy:\n",
      " 0.7114128566517703\n",
      "Validation Accuracy:\n",
      " 0.5292096219931272\n",
      "Classification Report:\n",
      "              precision    recall  f1-score   support\n",
      "\n",
      "          0       0.09      0.02      0.04        84\n",
      "          1       0.60      0.74      0.66       859\n",
      "          2       0.36      0.28      0.31       485\n",
      "          3       0.00      0.00      0.00        27\n",
      "\n",
      "avg / total       0.48      0.53      0.50      1455\n",
      "\n",
      "Precision Score :  0.5292096219931272\n",
      "Recall Score :  0.5292096219931272\n",
      "F1 score : 0.5292096219931272\n",
      "========================================================================================================================\n",
      "================================================== MNB ==================================================\n",
      "Train Accuracy:\n",
      " 0.5953936060501891\n",
      "Validation Accuracy:\n",
      " 0.5896907216494846\n",
      "Classification Report:\n",
      "              precision    recall  f1-score   support\n",
      "\n",
      "          0       0.00      0.00      0.00        84\n",
      "          1       0.59      0.97      0.74       859\n",
      "          2       0.47      0.06      0.10       485\n",
      "          3       0.00      0.00      0.00        27\n",
      "\n",
      "avg / total       0.51      0.59      0.47      1455\n",
      "\n",
      "Precision Score :  0.5896907216494846\n",
      "Recall Score :  0.5896907216494846\n",
      "F1 score : 0.5896907216494846\n",
      "========================================================================================================================\n",
      "================================================== SVC ==================================================\n",
      "Train Accuracy:\n",
      " 0.6014094190443451\n",
      "Validation Accuracy:\n",
      " 0.5938144329896907\n",
      "Classification Report:\n",
      "              precision    recall  f1-score   support\n",
      "\n",
      "          0       0.00      0.00      0.00        84\n",
      "          1       0.59      0.99      0.74       859\n",
      "          2       0.65      0.02      0.04       485\n",
      "          3       0.00      0.00      0.00        27\n",
      "\n",
      "avg / total       0.57      0.59      0.45      1455\n",
      "\n",
      "Precision Score :  0.5938144329896907\n",
      "Recall Score :  0.5938144329896907\n",
      "F1 score : 0.5938144329896907\n",
      "========================================================================================================================\n",
      "Max f1_score is 0.5938144329896907 in model SVC\n"
     ]
    }
   ],
   "source": [
    "f1 = []\n",
    "def run_model(predictors,target, model):\n",
    "    X_train, X_test, y_train, y_test = train_test_split(predictors, target, test_size=0.2, random_state=6)\n",
    "    model.fit(X_train, y_train)\n",
    "    y_scores = model.predict(X_test)\n",
    "    print('Train Accuracy:\\n',model.score(X_train,y_train))\n",
    "    print('Validation Accuracy:\\n',model.score(X_test,y_test))\n",
    "    print('Classification Report:\\n',classification_report(y_test, y_scores))\n",
    "    print(\"Precision Score : \",precision_score(y_test, y_scores,average='micro'))\n",
    "    print(\"Recall Score : \",recall_score(y_test, y_scores,average='micro'))\n",
    "\n",
    "    # calculating the f1 score for the validation set\n",
    "    print(\"F1 score :\", f1_score(y_test, y_scores,average='micro'))\n",
    "    f1.append(f1_score(y_test, y_scores,average='micro'))\n",
    "    print(\"=\"*120)\n",
    "#     a = max(f1)\n",
    "#     b = f1.index(min(f1))\n",
    "    return f1\n",
    "\n",
    "\n",
    "# Predictors\n",
    "X = df_model.drop(['sentiment','clean_text'], axis=1)\n",
    "y = df_model.sentiment\n",
    "models = {'Logistic Regression':LogisticRegression()\n",
    "          ,'Decision Tree':DecisionTreeClassifier()\n",
    "          ,'Random Forest': RandomForestClassifier()\n",
    "          ,'MNB':MultinomialNB()\n",
    "          ,'SVC':SVC()}\n",
    "# models = {'Logistic Regression':LogisticRegression()\n",
    "#           ,'Decision Tree':DecisionTreeClassifier()\n",
    "#           ,'Random Forest': RandomForestClassifier()\n",
    "#           ,'MNB':MultinomialNB()\n",
    "#           ,'SVC':SVC(kernel='linear', gamma = 6, random_state=0)}\n",
    "j = 0\n",
    "for i in models.items():\n",
    "    print('='*50,list(models.keys())[j],'='*50)\n",
    "    model = i[1]\n",
    "    a = run_model(X, y, model)\n",
    "    j=j+1\n",
    "print('Max f1_score is {} in model {}'.format(max(a),list(models.keys())[a.index(max(a))]))"
   ]
  },
  {
   "cell_type": "code",
   "execution_count": 26,
   "metadata": {},
   "outputs": [
    {
     "name": "stdout",
     "output_type": "stream",
     "text": [
      "Train Accuracy:\n",
      " 0.5947060845651426\n",
      "Validation Accuracy:\n",
      " 0.5883161512027492\n",
      "Classification Report:\n",
      "              precision    recall  f1-score   support\n",
      "\n",
      "          0       0.00      0.00      0.00        84\n",
      "          1       0.59      0.97      0.74       859\n",
      "          2       0.45      0.04      0.08       485\n",
      "          3       0.00      0.00      0.00        27\n",
      "\n",
      "avg / total       0.50      0.59      0.46      1455\n",
      "\n",
      "Precision Score :  0.5883161512027492\n",
      "Recall Score :  0.5883161512027492\n",
      "F1 score : 0.5883161512027492\n"
     ]
    }
   ],
   "source": [
    "X = df_model.drop(['sentiment','clean_text'], axis=1)\n",
    "y = df_model.sentiment\n",
    "X_train, X_test, y_train, y_test = train_test_split(X, y, test_size=0.2, random_state=6)\n",
    "\n",
    "model = LogisticRegression()\n",
    "model.fit(X_train, y_train)\n",
    "y_scores = model.predict(X_test)\n",
    "print('Train Accuracy:\\n',model.score(X_train,y_train))\n",
    "print('Validation Accuracy:\\n',model.score(X_test,y_test))\n",
    "print('Classification Report:\\n',classification_report(y_test, y_scores))\n",
    "print(\"Precision Score : \",precision_score(y_test, y_scores,average='micro'))\n",
    "print(\"Recall Score : \",recall_score(y_test, y_scores,average='micro'))\n",
    "\n",
    "# calculating the f1 score for the validation set\n",
    "print(\"F1 score :\", f1_score(y_test, y_scores,average='micro'))"
   ]
  },
  {
   "cell_type": "code",
   "execution_count": 19,
   "metadata": {},
   "outputs": [
    {
     "name": "stdout",
     "output_type": "stream",
     "text": [
      "Best Parameters are:\n"
     ]
    },
    {
     "data": {
      "text/plain": [
       "{'C': 1.0, 'decision_function_shape': 'ovo', 'gamma': 4, 'kernel': 'linear'}"
      ]
     },
     "execution_count": 19,
     "metadata": {},
     "output_type": "execute_result"
    }
   ],
   "source": [
    "def grid_search_SVC(dataframe,target):\n",
    "\n",
    "    x_train,x_val,y_train,y_val = train_test_split(X,y, test_size=0.2, random_state=42, stratify=y)\n",
    "    model = SVC()\n",
    "    param_grid = { \n",
    "        'C':[1.0,2.0],\n",
    "    'kernel': ['linear', 'rbf'],\n",
    "    'gamma' : [4,5,6],\n",
    "    'decision_function_shape' :['ovo', 'ovr']\n",
    "    }\n",
    "    grid_search_model = GridSearchCV(model, param_grid=param_grid)\n",
    "    grid_search_model.fit(x_train, y_train)\n",
    "    print('Best Parameters are:')\n",
    "    return grid_search_model.best_params_\n",
    "\n",
    "X = df_model.drop(['sentiment','clean_text'], axis=1)\n",
    "y = df_model.sentiment\n",
    "grid_search_SVC(X,y)"
   ]
  },
  {
   "cell_type": "code",
   "execution_count": null,
   "metadata": {},
   "outputs": [],
   "source": [
    "X = df_model.drop(['sentiment','clean_text'], axis=1)\n",
    "y = df_model.sentiment\n",
    "X_train, X_test, y_train, y_test = train_test_split(X, y, test_size=0.2, random_state=6)\n",
    "model = SVC(C=1.0, kernel='poly', random_state=3)\n",
    "model.fit(X_train, y_train)\n",
    "y_scores = model.predict(X_test)\n",
    "print('Train Accuracy:\\n',model.score(X_train,y_train))\n",
    "print('Validation Accuracy:\\n',model.score(X_test,y_test))\n",
    "print('Classification Report:\\n',classification_report(y_test, y_scores))\n",
    "print(\"Precision Score : \",precision_score(y_test, y_scores,average='micro'))\n",
    "print(\"Recall Score : \",recall_score(y_test, y_scores,average='micro'))\n",
    "\n",
    "# calculating the f1 score for the validation set\n",
    "print(\"F1 score :\", f1_score(y_test, y_scores,average='micro'))"
   ]
  },
  {
   "cell_type": "code",
   "execution_count": null,
   "metadata": {},
   "outputs": [],
   "source": []
  },
  {
   "cell_type": "code",
   "execution_count": null,
   "metadata": {},
   "outputs": [],
   "source": []
  },
  {
   "cell_type": "code",
   "execution_count": null,
   "metadata": {},
   "outputs": [],
   "source": []
  },
  {
   "cell_type": "code",
   "execution_count": null,
   "metadata": {},
   "outputs": [],
   "source": []
  },
  {
   "cell_type": "code",
   "execution_count": null,
   "metadata": {},
   "outputs": [],
   "source": []
  },
  {
   "cell_type": "code",
   "execution_count": 52,
   "metadata": {
    "scrolled": false
   },
   "outputs": [
    {
     "name": "stdout",
     "output_type": "stream",
     "text": [
      "========================================================================================================================\n",
      "model: Logistic Regression, columns list ['count_mentions', 'count_hashtags', 'count_capital_words', 'count_excl_quest_marks', 'count_urls', 'count_emojis']\n",
      "========================================================================================================================\n",
      "model: Decision Tree, columns list ['count_words', 'count_mentions', 'count_hashtags', 'count_capital_words', 'count_excl_quest_marks', 'count_urls']\n",
      "========================================================================================================================\n",
      "model: Random Forest, columns list ['count_words', 'count_mentions', 'count_hashtags', 'count_capital_words', 'count_excl_quest_marks', 'count_urls']\n",
      "========================================================================================================================\n",
      "model: MNB, columns list ['count_mentions', 'count_hashtags', 'count_capital_words', 'count_excl_quest_marks', 'count_urls', 'count_emojis']\n",
      "========================================================================================================================\n",
      "model: SVC, columns list ['count_mentions', 'count_hashtags', 'count_capital_words', 'count_excl_quest_marks', 'count_urls', 'count_emojis']\n"
     ]
    }
   ],
   "source": [
    "col = []\n",
    "def sel_feat(X,y, model):\n",
    "    model = model\n",
    "    rfe = RFE(model,6)\n",
    "    rfe = rfe.fit(X,y)\n",
    "    feature_ranking = pd.Series(rfe.ranking_, index=X.columns)\n",
    "    col.append(feature_ranking[feature_ranking.values==1].index.tolist())\n",
    "    print('===='*30)\n",
    "    \n",
    "    return col\n",
    "\n",
    "\n",
    "# Predictors\n",
    "X = df_model.drop(['sentiment','clean_text'], axis=1)\n",
    "y = df_model.sentiment\n",
    " \n",
    "models = {'Logistic Regression':LogisticRegression()\n",
    "          ,'Decision Tree':DecisionTreeClassifier()\n",
    "          ,'Random Forest': RandomForestClassifier()\n",
    "          ,'MNB':MultinomialNB()\n",
    "          ,'SVC':SVC(kernel='linear', gamma = 6, random_state=0)}\n",
    "j = 0\n",
    "for i in models.items():\n",
    "#     print('='*50,list(models.keys())[j],'='*50)\n",
    "    model = i[1]\n",
    "    col = sel_feat(X, y, model)\n",
    "    print('model: {}, columns list {}'.format(list(models.keys())[j],col[j]))\n",
    "    j=j+1\n"
   ]
  },
  {
   "cell_type": "code",
   "execution_count": 53,
   "metadata": {
    "scrolled": false
   },
   "outputs": [
    {
     "name": "stdout",
     "output_type": "stream",
     "text": [
      "================================================== Logistic Regression ==================================================\n",
      "Train Accuracy:\n",
      " 0.596253007906497\n",
      "Validation Accuracy:\n",
      " 0.5945017182130584\n",
      "Classification Report:\n",
      "              precision    recall  f1-score   support\n",
      "\n",
      "          0       0.00      0.00      0.00        84\n",
      "          1       0.59      0.99      0.74       859\n",
      "          2       0.62      0.03      0.06       485\n",
      "          3       0.00      0.00      0.00        27\n",
      "\n",
      "avg / total       0.56      0.59      0.46      1455\n",
      "\n",
      "Precision Score :  0.5945017182130584\n",
      "Recall Score :  0.5945017182130584\n",
      "F1 score : 0.5945017182130584\n",
      "========================================================================================================================\n",
      "================================================== Decision Tree ==================================================\n",
      "Train Accuracy:\n",
      " 0.7181161911309728\n",
      "Validation Accuracy:\n",
      " 0.5395189003436426\n",
      "Classification Report:\n",
      "              precision    recall  f1-score   support\n",
      "\n",
      "          0       0.14      0.10      0.11        84\n",
      "          1       0.61      0.76      0.68       859\n",
      "          2       0.39      0.25      0.30       485\n",
      "          3       0.00      0.00      0.00        27\n",
      "\n",
      "avg / total       0.50      0.54      0.51      1455\n",
      "\n",
      "Precision Score :  0.5395189003436426\n",
      "Recall Score :  0.5395189003436426\n",
      "F1 score : 0.5395189003436426\n",
      "========================================================================================================================\n",
      "================================================== Random Forest ==================================================\n",
      "Train Accuracy:\n",
      " 0.7102096940529391\n",
      "Validation Accuracy:\n",
      " 0.5264604810996564\n",
      "Classification Report:\n",
      "              precision    recall  f1-score   support\n",
      "\n",
      "          0       0.13      0.06      0.08        84\n",
      "          1       0.60      0.74      0.66       859\n",
      "          2       0.35      0.26      0.30       485\n",
      "          3       0.00      0.00      0.00        27\n",
      "\n",
      "avg / total       0.48      0.53      0.50      1455\n",
      "\n",
      "Precision Score :  0.5264604810996564\n",
      "Recall Score :  0.5264604810996564\n",
      "F1 score : 0.5264604810996564\n",
      "========================================================================================================================\n",
      "================================================== MNB ==================================================\n",
      "Train Accuracy:\n",
      " 0.5935029219663115\n",
      "Validation Accuracy:\n",
      " 0.5924398625429553\n",
      "Classification Report:\n",
      "              precision    recall  f1-score   support\n",
      "\n",
      "          0       0.00      0.00      0.00        84\n",
      "          1       0.60      0.97      0.74       859\n",
      "          2       0.51      0.06      0.11       485\n",
      "          3       0.00      0.00      0.00        27\n",
      "\n",
      "avg / total       0.52      0.59      0.47      1455\n",
      "\n",
      "Precision Score :  0.5924398625429553\n",
      "Recall Score :  0.5924398625429553\n",
      "F1 score : 0.5924398625429553\n",
      "========================================================================================================================\n",
      "================================================== SVC ==================================================\n",
      "Train Accuracy:\n",
      " 0.5936748023375731\n",
      "Validation Accuracy:\n",
      " 0.5910652920962199\n",
      "Classification Report:\n",
      "              precision    recall  f1-score   support\n",
      "\n",
      "          0       0.00      0.00      0.00        84\n",
      "          1       0.59      1.00      0.74       859\n",
      "          2       0.67      0.00      0.01       485\n",
      "          3       0.00      0.00      0.00        27\n",
      "\n",
      "avg / total       0.57      0.59      0.44      1455\n",
      "\n",
      "Precision Score :  0.5910652920962199\n",
      "Recall Score :  0.5910652920962199\n",
      "F1 score : 0.5910652920962199\n",
      "========================================================================================================================\n",
      "Max f1_score is 0.5945017182130584 in model Logistic Regression\n"
     ]
    }
   ],
   "source": [
    "f1 = []\n",
    "def run_model(predictors,target, model):\n",
    "    X_train, X_test, y_train, y_test = train_test_split(predictors, target, test_size=0.2, random_state=6)\n",
    "    model.fit(X_train, y_train)\n",
    "    y_scores = model.predict(X_test)\n",
    "    print('Train Accuracy:\\n',model.score(X_train,y_train))\n",
    "    print('Validation Accuracy:\\n',model.score(X_test,y_test))\n",
    "    print('Classification Report:\\n',classification_report(y_test, y_scores))\n",
    "    print(\"Precision Score : \",precision_score(y_test, y_scores,average='micro'))\n",
    "    print(\"Recall Score : \",recall_score(y_test, y_scores,average='micro'))\n",
    "\n",
    "    # calculating the f1 score for the validation set\n",
    "    print(\"F1 score :\", f1_score(y_test, y_scores,average='micro'))\n",
    "    f1.append(f1_score(y_test, y_scores,average='micro'))\n",
    "    print(\"=\"*120)\n",
    "#     a = max(f1)\n",
    "#     b = f1.index(min(f1))\n",
    "    return f1\n",
    "\n",
    "\n",
    "\n",
    "models = {'Logistic Regression':LogisticRegression()\n",
    "          ,'Decision Tree':DecisionTreeClassifier()\n",
    "          ,'Random Forest': RandomForestClassifier()\n",
    "          ,'MNB':MultinomialNB()\n",
    "          ,'SVC':SVC(kernel='linear', gamma = 6, random_state=0)}\n",
    "j = 0\n",
    "for i in models.items():\n",
    "    X = df_model[col[j]]\n",
    "    y = df_model.sentiment\n",
    "    print('='*50,list(models.keys())[j],'='*50)\n",
    "    model = i[1]\n",
    "    a = run_model(X, y, model)\n",
    "    j=j+1\n",
    "print('Max f1_score is {} in model {}'.format(max(a),list(models.keys())[a.index(max(a))]))"
   ]
  },
  {
   "cell_type": "code",
   "execution_count": null,
   "metadata": {},
   "outputs": [],
   "source": []
  },
  {
   "cell_type": "code",
   "execution_count": null,
   "metadata": {},
   "outputs": [],
   "source": []
  },
  {
   "cell_type": "code",
   "execution_count": null,
   "metadata": {},
   "outputs": [],
   "source": []
  },
  {
   "cell_type": "code",
   "execution_count": 23,
   "metadata": {},
   "outputs": [],
   "source": [
    "class ColumnExtractor(TransformerMixin, BaseEstimator):\n",
    "    def __init__(self, cols):\n",
    "        self.cols = cols\n",
    "    def transform(self, X, **transform_params):\n",
    "        return X[self.cols]\n",
    "    def fit(self, X, y=None, **fit_params):\n",
    "        return self\n"
   ]
  },
  {
   "cell_type": "code",
   "execution_count": 24,
   "metadata": {},
   "outputs": [],
   "source": [
    "logreg = LogisticRegression()\n",
    "dt = DecisionTreeClassifier()\n",
    "rf = RandomForestClassifier()\n",
    "mnb = MultinomialNB()"
   ]
  },
  {
   "cell_type": "code",
   "execution_count": 25,
   "metadata": {},
   "outputs": [],
   "source": [
    "def grid_vect(clf, parameters_clf, X_train, X_test, parameters_text=None, vect=None, is_w2v=False):\n",
    "    \n",
    "    textcountscols = ['count_capital_words','count_emojis','count_excl_quest_marks','count_hashtags'\n",
    "                      ,'count_mentions','count_urls','count_words']\n",
    "    \n",
    "    if is_w2v:\n",
    "        w2vcols = []\n",
    "        for i in range(SIZE):\n",
    "            w2vcols.append(i)\n",
    "        features = FeatureUnion([('textcounts', ColumnExtractor(cols=textcountscols))\n",
    "                                 , ('w2v', ColumnExtractor(cols=w2vcols))]\n",
    "                                , n_jobs=-1)\n",
    "    else:\n",
    "        features = FeatureUnion([('textcounts', ColumnExtractor(cols=textcountscols))\n",
    "                                 , ('pipe', Pipeline([('cleantext', ColumnExtractor(cols='clean_text')), ('vect', vect)]))]\n",
    "                                , n_jobs=-1)\n",
    "    \n",
    "    pipeline = Pipeline([\n",
    "        ('features', features)\n",
    "        , ('clf', clf)\n",
    "    ])\n",
    "    \n",
    "    # Join the parameters dictionaries together\n",
    "    parameters = dict()\n",
    "    if parameters_text:\n",
    "        parameters.update(parameters_text)\n",
    "    parameters.update(parameters_clf)\n",
    "    # Make sure you have scikit-learn version 0.19 or higher to use multiple scoring metrics\n",
    "    grid_search = GridSearchCV(pipeline, parameters, n_jobs=-1, verbose=1, cv=5)\n",
    "    \n",
    "    print(\"Performing grid search...\")\n",
    "    print(\"pipeline:\", [name for name, _ in pipeline.steps])\n",
    "    print(\"parameters:\")\n",
    "    pprint(parameters)\n",
    "    t0 = time()\n",
    "    grid_search.fit(X_train, y_train)\n",
    "    print(\"done in %0.3fs\" % (time() - t0))\n",
    "    print()\n",
    "    print(\"Best CV score: %0.3f\" % grid_search.best_score_)\n",
    "    print(\"Best parameters set:\")\n",
    "    best_parameters = grid_search.best_estimator_.get_params()\n",
    "    for param_name in sorted(parameters.keys()):\n",
    "        print(\"\\t%s: %r\" % (param_name, best_parameters[param_name]))\n",
    "        \n",
    "    print(\"Test score with best_estimator_: %0.3f\" % grid_search.best_estimator_.score(X_test, y_test))\n",
    "    print(\"\\n\")\n",
    "    print(\"Classification Report Test Data\")\n",
    "    print(classification_report(y_test, grid_search.best_estimator_.predict(X_test)))\n",
    "                        \n",
    "    return grid_search"
   ]
  },
  {
   "cell_type": "code",
   "execution_count": 26,
   "metadata": {},
   "outputs": [],
   "source": [
    "# Parameter grid settings for the vectorizers (Count and TFIDF)\n",
    "parameters_vect = {\n",
    "    'features__pipe__vect__max_df': (0.25, 0.5, 0.75),\n",
    "    'features__pipe__vect__ngram_range': ((1, 1), (1, 2)),\n",
    "    'features__pipe__vect__min_df': (1,2)\n",
    "}\n",
    "# Parameter grid settings for MultinomialNB\n",
    "parameters_mnb = {\n",
    "    'clf__alpha': (0.25, 0.5, 0.75)\n",
    "}\n",
    "# Parameter grid settings for LogisticRegression\n",
    "parameters_logreg = {\n",
    "    'clf__C': (0.25, 0.5, 1.0),\n",
    "    'clf__penalty': ('l1', 'l2')\n",
    "}"
   ]
  },
  {
   "cell_type": "code",
   "execution_count": null,
   "metadata": {},
   "outputs": [],
   "source": [
    "countvect = CountVectorizer()\n",
    "# MultinomialNB\n",
    "best_mnb_countvect = grid_vect(mnb, parameters_mnb, X_train, X_test, parameters_text=parameters_vect, vect=countvect)\n",
    "joblib.dump(best_mnb_countvect, 'data/best_mnb_countvect.pkl')"
   ]
  },
  {
   "cell_type": "code",
   "execution_count": null,
   "metadata": {},
   "outputs": [],
   "source": [
    "# LogisticRegression\n",
    "best_logreg_countvect = grid_vect(logreg, parameters_logreg, X_train, X_test, parameters_text=parameters_vect, vect=countvect)\n",
    "joblib.dump(best_logreg_countvect, 'data/best_logreg_countvect.pkl')"
   ]
  },
  {
   "cell_type": "code",
   "execution_count": null,
   "metadata": {},
   "outputs": [],
   "source": [
    "tfidfvect = TfidfVectorizer()\n",
    "# MultinomialNB\n",
    "best_mnb_tfidf = grid_vect(mnb, parameters_mnb, X_train, X_test, parameters_text=parameters_vect, vect=tfidfvect)\n",
    "joblib.dump(best_mnb_tfidf, 'datat/best_mnb_tfidf.pkl')"
   ]
  },
  {
   "cell_type": "code",
   "execution_count": null,
   "metadata": {},
   "outputs": [],
   "source": [
    "# LogisticRegression\n",
    "best_logreg_tfidf = grid_vect(logreg, parameters_mnb, X_train, X_test, parameters_text=parameters_vect, vect=tfidfvect)\n",
    "joblib.dump(best_logreg_tfidf, 'data/best_logreg_tfidf.pkl'"
   ]
  },
  {
   "cell_type": "code",
   "execution_count": null,
   "metadata": {},
   "outputs": [],
   "source": [
    "SIZE = 50\n",
    "X_train['clean_text_wordlist'] = X_train.clean_text.apply(lambda x : word_tokenize(x))\n",
    "X_test['clean_text_wordlist'] = X_test.clean_text.apply(lambda x : word_tokenize(x))\n",
    "model = gensim.models.Word2Vec(X_train.clean_text_wordlist, min_count=1, size=SIZE, window=5, workers=4)\n",
    "model.most_similar('plane', topn=3)"
   ]
  },
  {
   "cell_type": "code",
   "execution_count": null,
   "metadata": {},
   "outputs": [],
   "source": [
    "def compute_avg_w2v_vector(w2v_dict, tweet):\n",
    "    list_of_word_vectors = [w2v_dict[w] for w in tweet if w in w2v_dict.vocab.keys()]\n",
    "    \n",
    "    if len(list_of_word_vectors) == 0:\n",
    "        result = [0.0]*SIZE\n",
    "    else:\n",
    "        result = np.sum(list_of_word_vectors, axis=0) / len(list_of_word_vectors)\n",
    "        \n",
    "    return result\n",
    "X_train_w2v = X_train['clean_text_wordlist'].apply(lambda x: compute_avg_w2v_vector(model.wv, x))\n",
    "X_test_w2v = X_test['clean_text_wordlist'].apply(lambda x: compute_avg_w2v_vector(model.wv, x))"
   ]
  },
  {
   "cell_type": "code",
   "execution_count": null,
   "metadata": {},
   "outputs": [],
   "source": [
    "X_train_w2v = pd.DataFrame(X_train_w2v.values.tolist(), index= X_train.index)\n",
    "X_test_w2v = pd.DataFrame(X_test_w2v.values.tolist(), index= X_test.index)\n",
    "# Concatenate with the TextCounts variables\n",
    "X_train_w2v = pd.concat([X_train_w2v, X_train.drop(['clean_text', 'clean_text_wordlist'], axis=1)], axis=1)\n",
    "X_test_w2v = pd.concat([X_test_w2v, X_test.drop(['clean_text', 'clean_text_wordlist'], axis=1)], axis=1)"
   ]
  },
  {
   "cell_type": "code",
   "execution_count": null,
   "metadata": {},
   "outputs": [],
   "source": [
    "best_logreg_w2v = grid_vect(logreg, parameters_logreg, X_train_w2v, X_test_w2v, is_w2v=True)\n",
    "joblib.dump(best_logreg_w2v, 'data/best_logreg_w2v.pkl')"
   ]
  }
 ],
 "metadata": {
  "kernelspec": {
   "display_name": "Python 3",
   "language": "python",
   "name": "python3"
  },
  "language_info": {
   "codemirror_mode": {
    "name": "ipython",
    "version": 3
   },
   "file_extension": ".py",
   "mimetype": "text/x-python",
   "name": "python",
   "nbconvert_exporter": "python",
   "pygments_lexer": "ipython3",
   "version": "3.7.3"
  }
 },
 "nbformat": 4,
 "nbformat_minor": 2
}
